from sklearn.model_selection import train_test_split
from sklearn.metrics import accuracy_score, mean_squared_error
from src.model_training import train_classification, train_regression, train_clustering

# Load and split data
X = df.drop(columns=['pass_fail', 'score'])
y_cls = df['pass_fail']
y_reg = df['score']

X_train, X_test, y_cls_train, y_cls_test = train_test_split(X, y_cls, test_size=0.2, random_state=42)
_, _, y_reg_train, y_reg_test = train_test_split(X, y_reg, test_size=0.2, random_state=42)

# Classification
clf = train_classification(X_train, y_cls_train)
y_cls_pred = clf.predict(X_test)
print("Classification Accuracy:", accuracy_score(y_cls_test, y_cls_pred))

# Regression
reg = train_regression(X_train, y_reg_train)
y_reg_pred = reg.predict(X_test)
print("Regression RMSE:", mean_squared_error(y_reg_test, y_reg_pred, squared=False))

# Clustering
kmeans, score = train_clustering(X)
print("Clustering Silhouette Score:", score)
