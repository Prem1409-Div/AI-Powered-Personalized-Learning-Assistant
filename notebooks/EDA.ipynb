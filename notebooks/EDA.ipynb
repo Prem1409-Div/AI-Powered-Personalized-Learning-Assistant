import pandas as pd
import seaborn as sns
import matplotlib.pyplot as plt

df = pd.read_csv("../data/processed/student_data.csv")

# Visualize missing values
sns.heatmap(df.isnull(), cbar=False, cmap='viridis')
plt.title("Missing Values Heatmap")
plt.show()

# Plot performance distribution
sns.histplot(df['score'], bins=20, kde=True)
plt.title("Score Distribution")
plt.xlabel("Score")
plt.ylabel("Count")
plt.show()

# Analyze topic-wise accuracy
topic_accuracy = df.groupby("topic")["correct"].mean()
topic_accuracy.plot(kind="bar", figsize=(10, 5), title="Average Accuracy by Topic")
plt.ylabel("Accuracy")
plt.show()
