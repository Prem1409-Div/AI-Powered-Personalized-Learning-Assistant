from src.summary_generator import summarize_text
from src.quiz_generator import generate_quiz

sample_text = """The water cycle describes how water evaporates from the surface of the earth, rises into the atmosphere, cools and condenses into rain or snow in clouds, and falls again to the surface as precipitation."""

print("\n--- Summarization Output ---")
print(summarize_text(sample_text))

print("\n--- Quiz Generation Output ---")
print(generate_quiz("highlight <hl> water cycle <hl> and explain."))
